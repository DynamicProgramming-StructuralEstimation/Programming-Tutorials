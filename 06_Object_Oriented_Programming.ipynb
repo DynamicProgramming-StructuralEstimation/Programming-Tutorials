{
 "cells": [
  {
   "cell_type": "markdown",
   "metadata": {},
   "source": [
    "# Procedural, Functional, and Objected-Oriented Programming Paradigms\n",
    "1. TABLE OF CONTENTS"
   ]
  },
  {
   "cell_type": "markdown",
   "metadata": {},
   "source": [
    "# Introduction\n",
    "Programming languages are often classified by the programming paradigm they mainly support. The features of each programming language often encourage, or even mandate, structuring the various parts of a program in a specific way. While Python is often referred to as an object-oriented language, it is probably best described as a multi-paradigm programming language as its features also many other programming paradigms. A paradigm can be described as a specific approach to solve a problem through programming.\n",
    "\n",
    "The main difference between the various paradigms is the way they handle the state of the program, i.e. the values of its variables. Controlling how and where state is transformed in a program has practical implications for how reliable and manageable the code becomes. Each programming pradigm offers a different way of managing state, in the hope that the program does not quickly fall into the trap of \"spaghetti code\", where the code is so badly structured that it becomes too complex to maintain.\n",
    "\n",
    "As an example, three programming paradigms are: \n",
    "1. [Procedural](###Procedural)\n",
    "2. [Functional](#functional_comparison)\n",
    "3. [Object-Oriented](#oop_comparison)\n",
    "\n",
    "The following subsections will illustrate the differences between these three programming paradigms by producing the same output using code organised in these three different ways."
   ]
  },
  {
   "cell_type": "markdown",
   "metadata": {},
   "source": [
    "## Overview of Programming Paradigms\n"
   ]
  },
  {
   "cell_type": "markdown",
   "metadata": {},
   "source": [
    "### Procedural"
   ]
  },
  {
   "cell_type": "markdown",
   "metadata": {},
   "source": [
    "### Functional"
   ]
  },
  {
   "cell_type": "markdown",
   "metadata": {},
   "source": [
    "### Object Oriented"
   ]
  },
  {
   "cell_type": "markdown",
   "metadata": {},
   "source": [
    "## Building a Car\n",
    "In the following sub-chapters, the three different paradigms (procedural, functional and object oriented) are illustrated by an example.\n",
    "The Model X car by the manufacturer Tesla is built step by step separately for each of the paradigms.\n",
    "If a string is printed (e.g. \"Model X is driving\") the implied action is considered to take place immediately."
   ]
  },
  {
   "cell_type": "markdown",
   "metadata": {},
   "source": [
    "### Creating the Construction Plan\n",
    "The first step in building a car is to create a construction plan.\n",
    "In later steps, the construction plan is constantly expanded in order to be able to build the car in the final step."
   ]
  },
  {
   "cell_type": "markdown",
   "metadata": {},
   "source": [
    "#### Procedural\n",
    "One way to build a car is to represent it as a simple string:"
   ]
  },
  {
   "cell_type": "code",
   "execution_count": null,
   "metadata": {},
   "outputs": [],
   "source": [
    "car = 'Model X'"
   ]
  },
  {
   "cell_type": "markdown",
   "metadata": {},
   "source": [
    "#### Functional"
   ]
  },
  {
   "cell_type": "code",
   "execution_count": null,
   "metadata": {},
   "outputs": [],
   "source": [
    "car = 'Model X'"
   ]
  },
  {
   "cell_type": "markdown",
   "metadata": {},
   "source": [
    "#### Object Oriented\n",
    "A class is a blueprint for an object. Later in this tutorial, you will see that it contains all details about the objects (instances) that are part of the class. First, the ````class```` keyword is used to define an empty class ````Car````. "
   ]
  },
  {
   "cell_type": "code",
   "execution_count": null,
   "metadata": {},
   "outputs": [],
   "source": [
    "class Car:\n",
    "    _name = 'Model X'"
   ]
  },
  {
   "cell_type": "markdown",
   "metadata": {},
   "source": [
    "### Defining the Attributes"
   ]
  },
  {
   "cell_type": "markdown",
   "metadata": {},
   "source": [
    "#### Procedural"
   ]
  },
  {
   "cell_type": "code",
   "execution_count": 3,
   "metadata": {},
   "outputs": [],
   "source": [
    "# Creating the Construction Plan\n",
    "car = 'Model X'\n",
    "\n",
    "# Defining the Attributes\n",
    "car_colors = ['red', 'white', 'black']\n",
    "car_hp = 120\n",
    "car_length_m = 3\n",
    "car_width_m = 1.5"
   ]
  },
  {
   "cell_type": "code",
   "execution_count": 8,
   "metadata": {},
   "outputs": [
    {
     "output_type": "stream",
     "name": "stdout",
     "text": [
      "The Model X has the following specifications:\nAvailable colours: ['red', 'white', 'black']\nHP: 120\nLength: 3\nWidth: 1.5\n"
     ]
    }
   ],
   "source": [
    "# Laura's try\n",
    "# Having a look at the Model X first\n",
    "\n",
    "modelX_name = \"Model X\"\n",
    "modelX_colors = ['red', 'white', 'black']\n",
    "modelX_hp = 120 # wft is that? :-D @Robin what does it meeeeaaan? horse power??\n",
    "modelX_length = 3\n",
    "modelX_width = 1.5\n",
    "\n",
    "# technically using the format thingy is also kinda using a function... \n",
    "print(\"The {} has the following specifications:\".format(modelX_name))\n",
    "print(\"Available colours: {}\".format(modelX_colors))\n",
    "print(\"HP: {}\".format(modelX_hp))\n",
    "print(\"Length: {}\".format(modelX_length))\n",
    "print(\"Width: {}\".format(modelX_width))\n"
   ]
  },
  {
   "cell_type": "code",
   "execution_count": 17,
   "metadata": {},
   "outputs": [
    {
     "output_type": "stream",
     "name": "stdout",
     "text": [
      "The Model S has the following specifications:\nAvailable colours: ['yellow', 'black']\nHP: 150\nLength: 2.5\nWidth: 1.25\n"
     ]
    }
   ],
   "source": [
    "# If I now want to have a look at Tesla's Model S I have to specify all the variables again\n",
    "modelS_name = \"Model S\"\n",
    "modelS_colors = [\"yellow\", \"black\"]\n",
    "modelS_hp = 150\n",
    "modelS_length = 2.5\n",
    "modelS_width = 1.25\n",
    "\n",
    "# And in order to display all of it again I have to write all this code again too\n",
    "print(\"The {} has the following specifications:\".format(modelS_name))\n",
    "print(\"Available colours: {}\".format(modelS_colors))\n",
    "print(\"HP: {}\".format(modelS_hp))\n",
    "print(\"Length: {}\".format(modelS_length))\n",
    "print(\"Width: {}\".format(modelS_width))"
   ]
  },
  {
   "cell_type": "markdown",
   "metadata": {},
   "source": [
    "#### Functional"
   ]
  },
  {
   "cell_type": "code",
   "execution_count": null,
   "metadata": {},
   "outputs": [],
   "source": [
    "# Creating the Construction Plan\n",
    "car = 'Model X'\n",
    "\n",
    "# Defining the Attributes\n",
    "car_colors = ['red', 'white', 'black']\n",
    "car_hp = 120\n",
    "car_length_m = 3\n",
    "car_width_m = 1.5"
   ]
  },
  {
   "cell_type": "code",
   "execution_count": 12,
   "metadata": {},
   "outputs": [],
   "source": [
    "# Laura's try\n",
    "\n",
    "# As we've seen in the prodedrual way of doing this, there are a lot of redundancies. \n",
    "# Meaning, that we write a lot of similar code multiple times. \n",
    "# Clearly this doesn't scale, so a way of approaching this could be to define a function\n",
    "# The function will take the car specific values as inputs\n",
    "\n",
    "def car_specs(name, colors, hp, length, width):\n",
    "    \"\"\"\n",
    "    Prints the specifications.\n",
    "    Returns a list containing the car's specifications. \n",
    "\n",
    "    \"\"\"\n",
    "\n",
    "    car_specs = [name, colors, hp, length, width]\n",
    "\n",
    "    print(\"The {} has the following specifications:\".format(name))\n",
    "    print(\"Available colours: {}\".format(colors))\n",
    "    print(\"HP: {}\".format(hp))\n",
    "    print(\"Length: {}\".format(length))\n",
    "    print(\"Width: {}\".format(width))\n",
    "\n",
    "    return car_specs\n",
    "\n"
   ]
  },
  {
   "cell_type": "code",
   "execution_count": 13,
   "metadata": {},
   "outputs": [
    {
     "output_type": "stream",
     "name": "stdout",
     "text": [
      "The Model X has the following specifications:\nAvailable colours: ['red', 'white', 'black']\nHP: 120\nLength: 3\nWidth: 1.5\n"
     ]
    }
   ],
   "source": [
    "# Now we can use it with the Model X specifications\n",
    "modelX_specs = car_specs(name=\"Model X\", \n",
    "                         colors=['red', 'white', 'black'], \n",
    "                         hp=120, \n",
    "                         length=3, \n",
    "                         width=1.5)\n"
   ]
  },
  {
   "cell_type": "code",
   "execution_count": 14,
   "metadata": {},
   "outputs": [
    {
     "output_type": "execute_result",
     "data": {
      "text/plain": [
       "['Model X', ['red', 'white', 'black'], 120, 3, 1.5]"
      ]
     },
     "metadata": {},
     "execution_count": 14
    }
   ],
   "source": [
    "modelX_specs"
   ]
  },
  {
   "cell_type": "code",
   "execution_count": 15,
   "metadata": {},
   "outputs": [
    {
     "output_type": "stream",
     "name": "stdout",
     "text": [
      "The Model S has the following specifications:\nAvailable colours: ['yellow', 'black']\nHP: 150\nLength: 2.5\nWidth: 1.25\n"
     ]
    }
   ],
   "source": [
    "# And we can also easily use it with the Model S specifications\n",
    "modelS_specs = car_specs(name=\"Model S\",\n",
    "                         colors=['yellow', 'black'],\n",
    "                         hp=150,\n",
    "                         length=2.5,\n",
    "                         width=1.25)\n"
   ]
  },
  {
   "cell_type": "code",
   "execution_count": 18,
   "metadata": {},
   "outputs": [
    {
     "output_type": "execute_result",
     "data": {
      "text/plain": [
       "['Model S', ['yellow', 'black'], 150, 2.5, 1.25]"
      ]
     },
     "metadata": {},
     "execution_count": 18
    }
   ],
   "source": [
    "modelS_specs"
   ]
  },
  {
   "cell_type": "code",
   "execution_count": 16,
   "metadata": {},
   "outputs": [
    {
     "output_type": "execute_result",
     "data": {
      "text/plain": [
       "['Model S', ['yellow', 'black'], 150, 2.5, 1.25]"
      ]
     },
     "metadata": {},
     "execution_count": 16
    }
   ],
   "source": [
    "modelS_specs"
   ]
  },
  {
   "cell_type": "markdown",
   "metadata": {},
   "source": [
    "#### Object Oriented\n",
    "A class does not actually contain any data. The Car class specifies that a color, the length, the width and the hp are necessary for defining a specific car, but it does not contain the color, the length, the width and the hp of any specific car."
   ]
  },
  {
   "cell_type": "code",
   "execution_count": 2,
   "metadata": {},
   "outputs": [],
   "source": [
    "# L: I think we need to introduce the __init__() function here already... for the attributes. \n",
    "\n",
    "class Car:\n",
    "    # Creating the Construction Plan\n",
    "    _name = 'Model X'\n",
    "\n",
    "    # Defining the Attributes\n",
    "    _car_colors = ['red', 'white', 'black']\n",
    "    _car_hp = 120\n",
    "    _car_length_m = 3\n",
    "    _car_width_m = 1.5"
   ]
  },
  {
   "cell_type": "code",
   "execution_count": null,
   "metadata": {},
   "outputs": [],
   "source": []
  },
  {
   "cell_type": "markdown",
   "metadata": {},
   "source": [
    "### Defining the Functionality"
   ]
  },
  {
   "cell_type": "markdown",
   "metadata": {},
   "source": [
    "#### Procedural"
   ]
  },
  {
   "cell_type": "code",
   "execution_count": 6,
   "metadata": {},
   "outputs": [
    {
     "name": "stdout",
     "output_type": "stream",
     "text": [
      "Model X is driving\n"
     ]
    }
   ],
   "source": [
    "# Creating the Construction Plan\n",
    "car = 'Model X'\n",
    "\n",
    "# Defining the Attributes\n",
    "car_colors = ['red', 'white', 'black']\n",
    "car_hp = 120\n",
    "car_length_m = 3\n",
    "car_width_m = 1.5\n",
    "\n",
    "# Defining the Functionality\n",
    "print(car, 'is driving')"
   ]
  },
  {
   "cell_type": "markdown",
   "metadata": {},
   "source": [
    "#### Functional"
   ]
  },
  {
   "cell_type": "code",
   "execution_count": 5,
   "metadata": {},
   "outputs": [
    {
     "name": "stdout",
     "output_type": "stream",
     "text": [
      "Model X is driving.\n"
     ]
    }
   ],
   "source": [
    "# Creating the Construction Plan\n",
    "car = 'Model X'\n",
    "\n",
    "# Defining the Attributes\n",
    "car_colors = ['red', 'white', 'black']\n",
    "car_hp = 120\n",
    "car_length_m = 3\n",
    "car_width_m = 1.5\n",
    "\n",
    "# Defining the Functionality\n",
    "def drive(car):\n",
    "    print(car, 'is driving.')"
   ]
  },
  {
   "cell_type": "markdown",
   "metadata": {},
   "source": [
    "#### Object Oriented\n",
    "\n",
    "if"
   ]
  },
  {
   "cell_type": "code",
   "execution_count": 8,
   "metadata": {},
   "outputs": [
    {
     "name": "stdout",
     "output_type": "stream",
     "text": [
      "Model X is driving.\n"
     ]
    }
   ],
   "source": [
    "class Car:\n",
    "    # Creating the Construction Plan\n",
    "    _name = 'Model X'\n",
    "\n",
    "    # Defining the Attributes\n",
    "    _car_colors = ['red', 'white', 'black']\n",
    "    _car_hp = 120\n",
    "    _car_length_m = 3\n",
    "    _car_width_m = 1.5\n",
    "\n",
    "    # Defining the Functionality\n",
    "    def drive(self):\n",
    "        print(self._name, 'is driving.')"
   ]
  },
  {
   "cell_type": "markdown",
   "metadata": {},
   "source": [
    "### Building the Car\n",
    "- Procedural: Car is built and driving instantly\n",
    "- Functional: Car is built instantly but not driving\n",
    "- OOP: Car has to be built explicitly "
   ]
  },
  {
   "cell_type": "markdown",
   "metadata": {},
   "source": [
    "### Building a Different Car\n",
    "- Inheritance\n",
    "- Showing the advantage of OOP (reuising code parts)"
   ]
  }
 ],
 "metadata": {
  "kernelspec": {
   "display_name": "Python 3",
   "language": "python",
   "name": "python3"
  },
  "language_info": {
   "codemirror_mode": {
    "name": "ipython",
    "version": 3
   },
   "file_extension": ".py",
   "mimetype": "text/x-python",
   "name": "python",
   "nbconvert_exporter": "python",
   "pygments_lexer": "ipython3",
   "version": "3.9.0-final"
  }
 },
 "nbformat": 4,
 "nbformat_minor": 2
}