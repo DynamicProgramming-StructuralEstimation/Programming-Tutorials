{
 "cells": [
  {
   "cell_type": "markdown",
   "metadata": {},
   "source": [
    "# Procedural, Functional, and Objected-Oriented Programming Paradigms\n",
    "1. TABLE OF CONTENTS"
   ]
  },
  {
   "cell_type": "markdown",
   "metadata": {},
   "source": [
    "# Introduction\n",
    "Programming languages are often classified by the programming paradigm they mainly support. The features of each programming language often encourage, or even mandate, structuring the various parts of a program in a specific way. While Python is often referred to as an object-oriented language, it is probably best described as a multi-paradigm programming language as its features also many other programming paradigms. A paradigm can be described as a specific approach to solve a problem through programming.\n",
    "\n",
    "The main difference between the various paradigms is the way they handle the state of the program, i.e. the values of its variables. Controlling how and where state is transformed in a program has practical implications for how reliable and manageable the code becomes. Each programming pradigm offers a different way of managing state, in the hope that the program does not quickly fall into the trap of \"spaghetti code\", where the code is so badly structured that it becomes too complex to maintain.\n",
    "\n",
    "As an example, three programming paradigms are: \n",
    "1. [Procedural](###Procedural)\n",
    "2. [Functional](#functional_comparison)\n",
    "3. [Object-Oriented](#oop_comparison)\n",
    "\n",
    "The following subsections will illustrate the differences between these three programming paradigms by producing the same output using code organised in these three different ways."
   ]
  },
  {
   "cell_type": "markdown",
   "metadata": {},
   "source": [
    "## Overview of Programming Paradigms\n"
   ]
  },
  {
   "cell_type": "markdown",
   "metadata": {},
   "source": [
    "### Procedural"
   ]
  },
  {
   "cell_type": "markdown",
   "metadata": {},
   "source": [
    "### Functional"
   ]
  },
  {
   "cell_type": "markdown",
   "metadata": {},
   "source": [
    "### Object Oriented"
   ]
  },
  {
   "cell_type": "markdown",
   "metadata": {},
   "source": [
    "## Example Case: Building a Car\n",
    "In the following sub-chapters, the three different paradigms - procedural, functional and object oriented - will all be illustrated by the same example: the construction of the Model X car by the manufacturer Tesla. The aim of this chapter is to convey to the reader that the three paradigms are not completely different 'things', but rather allow a different perspective or approach to tackle one and the same problem. The example with the car, a simple everyday objcet, is used to convey the concepts of the three paradigms more easily. To get a better idea of the car, here is a picture of the original Model X by Tesla:\n",
    "\n",
    "![Markdown](imgs/06_model_x.png)\n",
    "\n",
    "The steps in the construction of the car are as follows: \n",
    "\n",
    "1. [Specifying the Model](###)\n",
    "2. [Defining the Car's Attributes](#)\n",
    "3. [Defining the Car's Functionality](#)\n",
    "4. [Completion of the Car](#)\n",
    "\n",
    "Note, if a string is printed in the following subchapters (e.g. \"Model X is driving\"), the implied action is considered to take place immediately."
   ]
  },
  {
   "cell_type": "markdown",
   "metadata": {},
   "source": [
    "### 1. Specifying the Model\n",
    "\n",
    "__(S: I think this parapgraph can be deleted and instead we could directly start with specifiying the car (as that is also the title of the subchapter), and then we can show the image at the end of this chapter to show how far we've come)__\n",
    "For any given project it is important to define the final goal and the steps on how to get there. In this specific example of building a car, we will first create a constrcution plan that will later be expandend by attributes and functionalities in oder to derive at the final fully functioning car. To create the construction plan, we need something with which we can link the different attributes and functions of the car. For this, in the procedural paradigm, a variable containing a string with the name of the model is created.\n",
    "\n",
    "<img src=\"imgs/06_blueprint_original.png\" width=\"400\">"
   ]
  },
  {
   "cell_type": "markdown",
   "metadata": {},
   "source": [
    "#### Procedural\n",
    "In the procedural way, the car model is 'specified' simply through assigning the name of the model, Model X, to a variable of your choice:"
   ]
  },
  {
   "cell_type": "code",
   "execution_count": 16,
   "metadata": {},
   "outputs": [
    {
     "name": "stdout",
     "output_type": "stream",
     "text": [
      "The name of the model under construction is: Model X\n"
     ]
    }
   ],
   "source": [
    "model_name = \"Model X\"\n",
    "\n",
    "print(\"The name of the model under construction is: {}\".format(model_name))"
   ]
  },
  {
   "cell_type": "markdown",
   "metadata": {},
   "source": [
    "#### Functional\n",
    "In the case of the functional paradigm, we create a function called ````specify_model```` that specifies the name of the model by passing the parameter ````model_name````:"
   ]
  },
  {
   "cell_type": "code",
   "execution_count": 15,
   "metadata": {},
   "outputs": [
    {
     "name": "stdout",
     "output_type": "stream",
     "text": [
      "The name of the model under construction is: Model X\n"
     ]
    }
   ],
   "source": [
    "def specify_model(model_name):\n",
    "    print(\"The name of the model under construction is: {}\".format(model_name))\n",
    "    return car\n",
    "\n",
    "car_model = specify_model(\"Model X\")"
   ]
  },
  {
   "cell_type": "markdown",
   "metadata": {},
   "source": [
    "#### Object Oriented\n",
    "And lastly, turning our viewpoint to the object oriented paradigm:\n",
    "\n",
    "A class is like a blueprint for an object. Later in this tutorial you will see that it contains all details about the objects that are part of the class. The ````class```` keyword is used to define an empty class ````Car````. Any code that follows the colon and is indented below the class definition is considered part of the class’s body. For now, the ````pass```` statement functions as a placeolder to indicate where code will eventually go. It allows you to run the code without any errors."
   ]
  },
  {
   "cell_type": "code",
   "execution_count": 11,
   "metadata": {},
   "outputs": [],
   "source": [
    "#S proposal\n",
    "class Car:\n",
    "    pass"
   ]
  },
  {
   "cell_type": "markdown",
   "metadata": {},
   "source": [
    "Creating a new object from a class is called instantiating an object. You can instantiate a new Car object by assigning the name of the class, followed by opening and closing parentheses, to the variable name of your object: In this case ````Model_X````. You can create as many objects from a class as you like and assign each of them to a different variable, for instance ````Model_Y````,````Model_S````, etc. Altough they will all be instances from the same class, they represent distinct objects.  "
   ]
  },
  {
   "cell_type": "code",
   "execution_count": 10,
   "metadata": {},
   "outputs": [],
   "source": [
    "#S proposal\n",
    "Model_X = Car()\n",
    "#The name of the model under construction is: Model X"
   ]
  },
  {
   "cell_type": "markdown",
   "metadata": {},
   "source": [
    "Old Text: Objects of a class are created using constructors which are special methods for creating instances of a class. The constructor of a class in python is defined by the ````init```` method and is called each time an object is instantiated."
   ]
  },
  {
   "cell_type": "code",
   "execution_count": 7,
   "metadata": {},
   "outputs": [],
   "source": [
    "class Car:\n",
    "    def __init__(self, model_name):\n",
    "        print(\"The name of the model under construction is: {}\".format(model_name))"
   ]
  },
  {
   "cell_type": "code",
   "execution_count": 9,
   "metadata": {},
   "outputs": [
    {
     "name": "stdout",
     "output_type": "stream",
     "text": [
      "The name of the model under construction is: Model X\n"
     ]
    }
   ],
   "source": [
    "modelX = Car(\"Model X\")"
   ]
  },
  {
   "cell_type": "markdown",
   "metadata": {},
   "source": [
    "### 2. Defining the Attributes\n",
    "\n",
    "<img src=\"imgs/06_blueprint_attributes.png\" width=\"400\">"
   ]
  },
  {
   "cell_type": "markdown",
   "metadata": {},
   "source": [
    "#### Procedural"
   ]
  },
  {
   "cell_type": "code",
   "execution_count": 3,
   "metadata": {},
   "outputs": [],
   "source": [
    "# Creating the Construction Plan\n",
    "car = 'Model X'\n",
    "\n",
    "# Defining the Attributes\n",
    "car_colors = ['red', 'white', 'black']\n",
    "car_hp = 120\n",
    "car_length_m = 3\n",
    "car_width_m = 1.5"
   ]
  },
  {
   "cell_type": "code",
   "execution_count": 8,
   "metadata": {},
   "outputs": [
    {
     "name": "stdout",
     "output_type": "stream",
     "text": [
      "The Model X has the following specifications:\n",
      "Available colours: ['red', 'white', 'black']\n",
      "HP: 120\n",
      "Length: 3\n",
      "Width: 1.5\n"
     ]
    }
   ],
   "source": [
    "# Laura's try\n",
    "# Having a look at the Model X first\n",
    "\n",
    "modelX_name = \"Model X\"\n",
    "modelX_colors = ['red', 'white', 'black']\n",
    "modelX_hp = 120\n",
    "modelX_length = 3\n",
    "modelX_width = 1.5\n",
    "\n",
    "# technically using the format thingy is also kinda using a function... \n",
    "print(\"The {} has the following specifications:\".format(modelX_name))\n",
    "print(\"Available colours: {}\".format(modelX_colors))\n",
    "print(\"HP: {}\".format(modelX_hp))\n",
    "print(\"Length: {}\".format(modelX_length))\n",
    "print(\"Width: {}\".format(modelX_width))\n"
   ]
  },
  {
   "cell_type": "code",
   "execution_count": 17,
   "metadata": {},
   "outputs": [
    {
     "name": "stdout",
     "output_type": "stream",
     "text": [
      "The Model S has the following specifications:\n",
      "Available colours: ['yellow', 'black']\n",
      "HP: 150\n",
      "Length: 2.5\n",
      "Width: 1.25\n"
     ]
    }
   ],
   "source": [
    "# If I now want to have a look at Tesla's Model S I have to specify all the variables again\n",
    "modelS_name = \"Model S\"\n",
    "modelS_colors = [\"yellow\", \"black\"]\n",
    "modelS_hp = 150\n",
    "modelS_length = 2.5\n",
    "modelS_width = 1.25\n",
    "\n",
    "# And in order to display all of it again I have to write all this code again too\n",
    "print(\"The {} has the following specifications:\".format(modelS_name))\n",
    "print(\"Available colours: {}\".format(modelS_colors))\n",
    "print(\"HP: {}\".format(modelS_hp))\n",
    "print(\"Length: {}\".format(modelS_length))\n",
    "print(\"Width: {}\".format(modelS_width))"
   ]
  },
  {
   "cell_type": "markdown",
   "metadata": {},
   "source": [
    "#### Functional\n",
    "<img src=\"imgs/06_blueprint_functionality.png\" width=\"400\">"
   ]
  },
  {
   "cell_type": "code",
   "execution_count": null,
   "metadata": {},
   "outputs": [],
   "source": [
    "# Creating the Construction Plan\n",
    "car = 'Model X'\n",
    "\n",
    "# Defining the Attributes\n",
    "car_colors = ['red', 'white', 'black']\n",
    "car_hp = 120\n",
    "car_length_m = 3\n",
    "car_width_m = 1.5"
   ]
  },
  {
   "cell_type": "code",
   "execution_count": 12,
   "metadata": {},
   "outputs": [],
   "source": [
    "# Laura's try\n",
    "\n",
    "# As we've seen in the prodedrual way of doing this, there are a lot of redundancies. \n",
    "# Meaning, that we write a lot of similar code multiple times. \n",
    "# Clearly this doesn't scale, so a way of approaching this could be to define a function\n",
    "# The function will take the car specific values as inputs\n",
    "\n",
    "def car_specs(name, colors, hp, length, width):\n",
    "    \"\"\"\n",
    "    Prints the specifications.\n",
    "    Returns a list containing the car's specifications. \n",
    "\n",
    "    \"\"\"\n",
    "\n",
    "    car_specs = [name, colors, hp, length, width]\n",
    "\n",
    "    print(\"The {} has the following specifications:\".format(name))\n",
    "    print(\"Available colours: {}\".format(colors))\n",
    "    print(\"HP: {}\".format(hp))\n",
    "    print(\"Length: {}\".format(length))\n",
    "    print(\"Width: {}\".format(width))\n",
    "\n",
    "    return car_specs\n",
    "\n"
   ]
  },
  {
   "cell_type": "code",
   "execution_count": 13,
   "metadata": {},
   "outputs": [
    {
     "name": "stdout",
     "output_type": "stream",
     "text": [
      "The Model X has the following specifications:\n",
      "Available colours: ['red', 'white', 'black']\n",
      "HP: 120\n",
      "Length: 3\n",
      "Width: 1.5\n"
     ]
    }
   ],
   "source": [
    "# Now we can use it with the Model X specifications\n",
    "modelX_specs = car_specs(name=\"Model X\", \n",
    "                         colors=['red', 'white', 'black'], \n",
    "                         hp=120, \n",
    "                         length=3, \n",
    "                         width=1.5)\n"
   ]
  },
  {
   "cell_type": "code",
   "execution_count": 14,
   "metadata": {},
   "outputs": [
    {
     "data": {
      "text/plain": [
       "['Model X', ['red', 'white', 'black'], 120, 3, 1.5]"
      ]
     },
     "execution_count": 14,
     "metadata": {},
     "output_type": "execute_result"
    }
   ],
   "source": [
    "modelX_specs"
   ]
  },
  {
   "cell_type": "code",
   "execution_count": 15,
   "metadata": {},
   "outputs": [
    {
     "name": "stdout",
     "output_type": "stream",
     "text": [
      "The Model S has the following specifications:\n",
      "Available colours: ['yellow', 'black']\n",
      "HP: 150\n",
      "Length: 2.5\n",
      "Width: 1.25\n"
     ]
    }
   ],
   "source": [
    "# And we can also easily use it with the Model S specifications\n",
    "modelS_specs = car_specs(name=\"Model S\",\n",
    "                         colors=['yellow', 'black'],\n",
    "                         hp=150,\n",
    "                         length=2.5,\n",
    "                         width=1.25)\n"
   ]
  },
  {
   "cell_type": "code",
   "execution_count": 18,
   "metadata": {
    "scrolled": true
   },
   "outputs": [
    {
     "data": {
      "text/plain": [
       "['Model S', ['yellow', 'black'], 150, 2.5, 1.25]"
      ]
     },
     "execution_count": 18,
     "metadata": {},
     "output_type": "execute_result"
    }
   ],
   "source": [
    "modelS_specs"
   ]
  },
  {
   "cell_type": "code",
   "execution_count": 16,
   "metadata": {},
   "outputs": [
    {
     "data": {
      "text/plain": [
       "['Model S', ['yellow', 'black'], 150, 2.5, 1.25]"
      ]
     },
     "execution_count": 16,
     "metadata": {},
     "output_type": "execute_result"
    }
   ],
   "source": [
    "modelS_specs"
   ]
  },
  {
   "cell_type": "markdown",
   "metadata": {},
   "source": [
    "#### Object Oriented\n",
    "A class does not actually contain any data. A method called .__init__() specifies that different parameters are necessary to define a certain car, but it does not contain the actual values for these parameters for any specific car. Every time a new car object is created, init() sets the initial state of the object by assigning the values of the object’s properties. That is, init() initializes each new instance of the class.\n",
    "\n",
    "You can create as many attributes in the init() method as you like, but the first parameter will always be a variable called self. When a new class instance is created, the instance is automatically passed to the self parameter in init() so that new attributes can be defined for the object. Note in the code below, the init() function is indented by four spaces and the body of the method by eight spaces. This exact indentation is important to Python, as it indicates that the init() method belongs to the Car class.\n",
    "\n",
    "In the body of init(), there are four statements - one for each attribute - using the self variable:\n",
    "\n",
    "1. __self.colors = colors__ creates an attribute called colors and assigns to it the value of the colors parameter.\n",
    "2. __self.hp = hp__ creates an attribute called hp and assigns to it the value of the hp parameter.\n",
    "3. __self.length = length__ creates an attribute called length and assigns to it the value of the length parameter.\n",
    "4. __self.width = width__ creates an attribute called width and assigns to it the value of the width parameter.\n",
    "\n",
    "As mentioned above, all attributes created in the init() method are specific to the instances and hence referred to as instance attributes. In other words, all car objects have a length, width, etc. but the values for these parameters vary depending on the Car instance. \n",
    "\n",
    "In order to create attributes that all objects inherit, so called class attributes, a value can be assigned to a variable name outside the init() function. Exemplary, all Cars of our class are models by Tesla."
   ]
  },
  {
   "cell_type": "code",
   "execution_count": 2,
   "metadata": {},
   "outputs": [],
   "source": [
    "# L: I think we need to introduce the __init__() function here already... for the attributes. \n",
    "\n",
    "class Car:\n",
    "    # Creating the Construction Plan\n",
    "    _name = 'Model X'\n",
    "\n",
    "    # Defining the Attributes\n",
    "    _car_colors = ['red', 'white', 'black']\n",
    "    _car_hp = 120\n",
    "    _car_length_m = 3\n",
    "    _car_width_m = 1.5"
   ]
  },
  {
   "cell_type": "code",
   "execution_count": 1,
   "metadata": {},
   "outputs": [],
   "source": [
    "#S: proposal to present attributes\n",
    "class Car:\n",
    "    \n",
    "    #class atrributes\n",
    "    Brand = \"Tesla\"\n",
    "    \n",
    "    #instance attributes\n",
    "    def __init__(self, colors, hp, length, width):\n",
    "        self.colors = colors\n",
    "        self.hp = hp\n",
    "        self.length = length\n",
    "        self.width = width"
   ]
  },
  {
   "cell_type": "code",
   "execution_count": 6,
   "metadata": {},
   "outputs": [
    {
     "name": "stdout",
     "output_type": "stream",
     "text": [
      "Model X is a car by Tesla.\n",
      "Model X has a length of 3m and a width of 1.5m.\n"
     ]
    }
   ],
   "source": [
    "#instantiate the Car class with the Model X object\n",
    "Model_X = Car(['red', 'white', 'black'],120,3,1.5)\n",
    "\n",
    "# access the class attributes\n",
    "print(\"Model X is a car by {}.\".format(Model_X.__class__.Brand))\n",
    "\n",
    "# access the instance attributes\n",
    "print(\"Model X has a length of {}m and a width of {}m.\".format( Model_X.length, Model_X.width))"
   ]
  },
  {
   "cell_type": "markdown",
   "metadata": {},
   "source": [
    "### 3. Defining the Functionality"
   ]
  },
  {
   "cell_type": "markdown",
   "metadata": {},
   "source": [
    "#### Procedural"
   ]
  },
  {
   "cell_type": "code",
   "execution_count": 6,
   "metadata": {},
   "outputs": [
    {
     "name": "stdout",
     "output_type": "stream",
     "text": [
      "Model X is driving\n"
     ]
    }
   ],
   "source": [
    "# Creating the Construction Plan\n",
    "car = 'Model X'\n",
    "\n",
    "# Defining the Attributes\n",
    "car_colors = ['red', 'white', 'black']\n",
    "car_hp = 120\n",
    "car_length_m = 3\n",
    "car_width_m = 1.5\n",
    "\n",
    "# Defining the Functionality\n",
    "print(car, 'is driving')"
   ]
  },
  {
   "cell_type": "markdown",
   "metadata": {},
   "source": [
    "#### Functional"
   ]
  },
  {
   "cell_type": "code",
   "execution_count": 5,
   "metadata": {},
   "outputs": [
    {
     "name": "stdout",
     "output_type": "stream",
     "text": [
      "Model X is driving.\n"
     ]
    }
   ],
   "source": [
    "# Creating the Construction Plan\n",
    "car = 'Model X'\n",
    "\n",
    "# Defining the Attributes\n",
    "car_colors = ['red', 'white', 'black']\n",
    "car_hp = 120\n",
    "car_length_m = 3\n",
    "car_width_m = 1.5\n",
    "\n",
    "# Defining the Functionality\n",
    "def drive(car):\n",
    "    print(car, 'is driving.')"
   ]
  },
  {
   "cell_type": "markdown",
   "metadata": {},
   "source": [
    "#### Object Oriented\n",
    "\n",
    "if"
   ]
  },
  {
   "cell_type": "code",
   "execution_count": 8,
   "metadata": {},
   "outputs": [
    {
     "name": "stdout",
     "output_type": "stream",
     "text": [
      "Model X is driving.\n"
     ]
    }
   ],
   "source": [
    "class Car:\n",
    "    # Creating the Construction Plan\n",
    "    _name = 'Model X'\n",
    "\n",
    "    # Defining the Attributes\n",
    "    _car_colors = ['red', 'white', 'black']\n",
    "    _car_hp = 120\n",
    "    _car_length_m = 3\n",
    "    _car_width_m = 1.5\n",
    "\n",
    "    # Defining the Functionality\n",
    "    def drive(self):\n",
    "        print(self._name, 'is driving.')"
   ]
  },
  {
   "cell_type": "markdown",
   "metadata": {},
   "source": [
    "### Building the Car\n",
    "- Procedural: Car is built and driving instantly\n",
    "- Functional: Car is built instantly but not driving\n",
    "- OOP: Car has to be built explicitly "
   ]
  },
  {
   "cell_type": "markdown",
   "metadata": {},
   "source": [
    "### Building a Different Car\n",
    "- Inheritance\n",
    "- Showing the advantage of OOP (reuising code parts)"
   ]
  }
 ],
 "metadata": {
  "kernelspec": {
   "display_name": "Python 3",
   "language": "python",
   "name": "python3"
  },
  "language_info": {
   "codemirror_mode": {
    "name": "ipython",
    "version": 3
   },
   "file_extension": ".py",
   "mimetype": "text/x-python",
   "name": "python",
   "nbconvert_exporter": "python",
   "pygments_lexer": "ipython3",
   "version": "3.8.5"
  }
 },
 "nbformat": 4,
 "nbformat_minor": 2
}
