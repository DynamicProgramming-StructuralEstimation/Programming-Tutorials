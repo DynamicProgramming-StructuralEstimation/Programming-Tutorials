{
 "cells": [
  {
   "cell_type": "markdown",
   "metadata": {},
   "source": [
    "# Procedural, Functional, and Objected-Oriented Programming Paradigms\n",
    "1. TABLE OF CONTENTS"
   ]
  },
  {
   "cell_type": "markdown",
   "metadata": {},
   "source": [
    "# Introduction\n",
    "\n",
    "Just like many other programming languages out there, Python's functionality builds on so-called __programming paradigms__. While some languages may require you to use a certain paradigm, others allow for more than one paradigm in your code.\n",
    "\n",
    "Python is mostly referred to as an __object-oriented__ programming language, implying that only Object-Oriented Programming (OOP - one of many paradigms - is allowed in it. However, the language supports and encourages the use of other paradigms too. Users can mix and match the paradigms in a way that suits the problem at hand and matches their programming style. This feature grants the user a lot of flexibility and is probably one reason why Python has become so popular. It would, therefore, be more accurate to speak of Python as a multi-paradigm programming language instead of a purely object-oriented one.\n",
    "\n",
    "In the following sections, we will first provide you with a brief overview of the main paradigms in Python. Then, by building Tesla's Model X step by step, we will be illustrating the differences between the paradigms and show that each of them would do the trick.    \n",
    "\n"
   ]
  },
  {
   "cell_type": "markdown",
   "metadata": {},
   "source": [
    "## Overview of Programming Paradigms \n",
    "\n",
    "Now, what exactly are programming paradigms? Roughly speaking, a paradigm is a way of solving a problem. Each paradigm offers a different set of ideas to perform the task at hand. They follow a paradigm-specific approach, structure your code and control its execution.     \n",
    "\n",
    "The three main paradigms that are supported by Python are:  \n",
    "1. [Procedural](###Procedural)  \n",
    "2. [Functional](#functional_comparison)  \n",
    "3. [Object-Oriented](#oop_comparison)\n",
    "\n",
    "They differ mainly in when and how the program assigns values to variables. Controlling this is important because it directly affects the manageability and reliability of the code. Chaotic, repetitive or copy-paste codes are more prone to mistakes, difficult to read and hard to maintain. Programming paradigms assist you in writing well-structured code so that it remains comprehensible and concise.\n"
   ]
  },
  {
   "cell_type": "markdown",
   "metadata": {},
   "source": [
    "### Procedural\n",
    "\n",
    "The __procedural__ paradigm might be the most intuitive of the three. It uses a top-down approach, where it breaks the problem down into small pieces and instructs the machine step by step how to solve a task. The state of a variable is changed directly along the way, which makes the code very easy to follow and understand. For the machine it is like following a recipe. \n",
    "  \n",
    "However, the longer and more complex a code, the more difficult it gets to stay on top of things. For example, a programmer would always have to know which variable names he already used because accidentally assigning a value to an existing variable may cause problems down the line. Finally, reusing a program that follows the procedural paradigm is often not that easy and requires you to code up every step again.\n"
   ]
  },
  {
   "cell_type": "markdown",
   "metadata": {},
   "source": [
    "### Functional\n",
    "\n",
    "While the procedural paradigm follows a step by step approach, the __functional__ paradigm solves a task by executing a series of functions. In this case, the state of a variable is changed by applying a function to it. The definition of the function happens strictly seperate from its use and is done in a general way, such that we can use it again with different inputs. This procedure might be a little more time consuming at first, but it has the advantage that later on, we can use the function for similar tasks without having to code every instruction again. \n",
    "\n",
    "This reusability makes the code a lot shorter. However, one will have to look up the function definition to understand what it does and how it changes the state of the variable. Additionally, when working with imported functions there is always the possibility of unwanted changes to their functionality. If the package creators decide to change said function, this will affect your program too.\n",
    "\n",
    "\n"
   ]
  },
  {
   "cell_type": "markdown",
   "metadata": {},
   "source": [
    "### Object Oriented\n",
    "\n",
    "The __object-oriented__ programming paradigm is built on the notion of classes and objects. These objects are similar to real life objects and all objects of the same class share certain attributes (states) or methods (functionalities). However, each object can also have personal attributes, just like one jacket might be red and the other one might be green, they both have the ability to keep you warm though.\n",
    "\n",
    "As you see, with OOP state and function are no longer separated but happen both within the object. The problem at hand is then solved through the interaction between the different objects. For example, if you, as a human object, are cold you could put on the jacket object to solve that problem. The fact, that OOP basically mimicks the real world, makes it easier to understand and since these objects are whole in themselves, they can easily be used in different applications. \n",
    "\n"
   ]
  },
  {
   "cell_type": "markdown",
   "metadata": {},
   "source": [
    "## Example Case: Building a Car\n",
    "In the following sub-chapters, the three different paradigms - procedural, functional and object oriented - will all be illustrated by the same example: the construction of the Model X car by the manufacturer Tesla. The aim of this chapter is to convey to the reader that the three paradigms are not completely different 'things', but rather allow a different perspective or approach to tackle one and the same problem. The example with the car, a simple everyday objcet, is used to convey the concepts of the three paradigms more easily. To get a better idea of the car, here is a picture of the original Model X by Tesla:\n",
    "\n",
    "![Markdown](imgs/06_model_x.png)\n",
    "\n",
    "The steps in the construction of the car are as follows: \n",
    "\n",
    "1. [Specifying the Model](###)\n",
    "2. [Defining the Car's Attributes](#)\n",
    "3. [Defining the Car's Functionality](#)\n",
    "4. [Completion of the Car](#)\n",
    "\n",
    "Note, if a string is printed in the following subchapters (e.g. \"Model X is driving\"), the implied action is considered to take place immediately."
   ]
  },
  {
   "cell_type": "markdown",
   "metadata": {},
   "source": [
    "### 1. Specifying the Model\n",
    "In this chapter, the exact model to be built is specified.\n",
    "In principle, it would also be possible to build another model instead of the Model X (for example, the Model S)."
   ]
  },
  {
   "cell_type": "markdown",
   "metadata": {},
   "source": [
    "#### Procedural\n",
    "In the procedural way, the car model is specified simply through assigning the name of the model to a variable of choice:"
   ]
  },
  {
   "cell_type": "code",
   "execution_count": 3,
   "metadata": {},
   "outputs": [
    {
     "name": "stdout",
     "output_type": "stream",
     "text": [
      "The model under construction is: Model X\n"
     ]
    }
   ],
   "source": [
    "# specify the model\n",
    "model = \"Model X\"\n",
    "\n",
    "# show the specified model\n",
    "print(\"The model under construction is: {}\".format(model))"
   ]
  },
  {
   "cell_type": "markdown",
   "metadata": {},
   "source": [
    "#### Functional\n",
    "In the case of the functional paradigm, we create a function called ````specify_model```` and pass the desired name of the model to the function through the parameter called ````model_name````. In the suite of the function the model is specified locally by assigning the passed name of the model to the local variable called ````model````. In this context, local means the variable is only usable inside the suite of the function (the intended lines below the signature/name of the function). In the last step of the function, the value of the variable ````model```` is returned and assigned to the global variable called ````model````. This last step has to be done in order to make the specified model globally available."
   ]
  },
  {
   "cell_type": "code",
   "execution_count": 1,
   "metadata": {},
   "outputs": [
    {
     "name": "stdout",
     "output_type": "stream",
     "text": [
      "The model under construction is: Model X\n"
     ]
    }
   ],
   "source": [
    "def specify_model(model_name):\n",
    "    # specify the model locally\n",
    "    model = model_name\n",
    "    \n",
    "    # show the specified model\n",
    "    print(\"The model under construction is: {}\".format(model))\n",
    "    \n",
    "    # return the specified model\n",
    "    return model\n",
    "    \n",
    "# specify the model globally\n",
    "model = specify_model(\"Model X\")"
   ]
  },
  {
   "cell_type": "markdown",
   "metadata": {},
   "source": [
    "#### Object Oriented\n",
    "And lastly, turning our viewpoint to the object oriented paradigm:\n",
    "\n",
    "A class is like a blueprint for an object. Later in this tutorial you will see that a class specifies all the details of an object derived from that class. In the code below, the ````class```` keyword is used to define an empty class ````Car````. Any intended code that follows the colon after the class definition represents the body of the class. For now, the ````pass```` statement is used as a placeholder to indicate where code in later steps will eventually go. It allows you to run the code without any errors."
   ]
  },
  {
   "cell_type": "code",
   "execution_count": 6,
   "metadata": {},
   "outputs": [],
   "source": [
    "# class definition\n",
    "class Car:\n",
    "    # body of the class\n",
    "    pass"
   ]
  },
  {
   "cell_type": "markdown",
   "metadata": {},
   "source": [
    "Creating a new object from a class is called \"instantiating an object\". You can instantiate a new object of the class ````Car```` by assigning the name of the class, followed by opening and closing parentheses, to a variable of choice: In this case the new object of the class ````Car```` is instantiated and assigned to the variable ````model_x````. You can create as many objects of a class as you wish and assign each of them to a different variable. Altough they will all be instances of the same class, they represent independent objects, which may have different details."
   ]
  },
  {
   "cell_type": "code",
   "execution_count": 10,
   "metadata": {},
   "outputs": [
    {
     "name": "stdout",
     "output_type": "stream",
     "text": [
      "The model under construction is: <__main__.Car object at 0x104e477c0>\n"
     ]
    }
   ],
   "source": [
    "# instantiating the object\n",
    "model_x = Car()\n",
    "\n",
    "# show the specified model\n",
    "print(\"The model under construction is: {}\".format(model_x))"
   ]
  },
  {
   "cell_type": "markdown",
   "metadata": {},
   "source": [
    "If you execute the code above, you may wonder why strange characters are displayed instead of the name of the model like in the paradigms shown before. This is due to the fact that we have not yet specified any attributes in the class ````Car````. Therefore, the instantiated objects of this class also have no attributes. This will be rectified in the next chapter of this example. The character string displayed corresponds to the address of the instantiated object in the main memory."
   ]
  },
  {
   "cell_type": "markdown",
   "metadata": {},
   "source": [
    "So far, we have only specified which model we want to build.\n",
    "It's not really a car yet, because it doesn't have any physical attributes like colour or basic functionality like driving.\n",
    "\n",
    "<img src=\"imgs/06_blueprint_original.png\" width=\"400\">"
   ]
  },
  {
   "cell_type": "markdown",
   "metadata": {},
   "source": [
    "### 2. Defining the Attributes\n",
    "\n",
    "INTRODUCTORY SENTENCES"
   ]
  },
  {
   "cell_type": "markdown",
   "metadata": {},
   "source": [
    "#### Procedural\n",
    "\n",
    "EXPLAIN WHAT WE'RE DOING"
   ]
  },
  {
   "cell_type": "code",
   "execution_count": null,
   "metadata": {},
   "outputs": [],
   "source": [
    "# Having a look at the Model X first\n",
    "\n",
    "modelX_name = \"Model X\"\n",
    "modelX_colors = ['red', 'white', 'black']\n",
    "modelX_hp = 120\n",
    "modelX_length = 3\n",
    "modelX_width = 1.5\n",
    "\n",
    "# technically using the format thingy is also kinda using a function... \n",
    "print(\"The {} has the following specifications:\".format(modelX_name))\n",
    "print(\"Available colours: {}\".format(modelX_colors))\n",
    "print(\"HP: {}\".format(modelX_hp))\n",
    "print(\"Length: {}\".format(modelX_length))\n",
    "print(\"Width: {}\".format(modelX_width))\n"
   ]
  },
  {
   "cell_type": "markdown",
   "metadata": {},
   "source": [
    "#### Functional\n",
    "\n",
    "EXPLAIN WHAT'S GOING OOON"
   ]
  },
  {
   "cell_type": "code",
   "execution_count": 5,
   "metadata": {},
   "outputs": [],
   "source": [
    "# Laura's try\n",
    "\n",
    "# As we've seen in the prodedrual way of doing this, there are a lot of redundancies. \n",
    "# Meaning, that we write a lot of similar code multiple times. \n",
    "# Clearly this doesn't scale, so a way of approaching this could be to define a function\n",
    "# The function will take the car specific values as inputs\n",
    "\n",
    "def car_attr(name, colors, hp, length, width):\n",
    "    \"\"\"\n",
    "    Prints the specifications.\n",
    "    Returns a list containing the car's specifications. \n",
    "\n",
    "    \"\"\"\n",
    "    car_attr = [name, colors, hp, length, width]\n",
    "    \n",
    "    print(\"The {} has the following specifications:\".format(name))\n",
    "    print(\"Available colours: {}\".format(colors))\n",
    "    print(\"HP: {}\".format(hp))\n",
    "    print(\"Length: {}\".format(length))\n",
    "    print(\"Width: {}\".format(width))\n",
    "\n",
    "    return car_attr"
   ]
  },
  {
   "cell_type": "code",
   "execution_count": 6,
   "metadata": {},
   "outputs": [
    {
     "name": "stdout",
     "output_type": "stream",
     "text": [
      "The Model X has the following specifications:\n",
      "Available colours: ['red', 'white', 'black']\n",
      "HP: 120\n",
      "Length: 3\n",
      "Width: 1.5\n"
     ]
    }
   ],
   "source": [
    "# Now we can use it with the Model X specifications\n",
    "modelX_attr = car_attr(name=\"Model X\", \n",
    "                         colors=['red', 'white', 'black'], \n",
    "                         hp=120, \n",
    "                         length=3, \n",
    "                         width=1.5)\n"
   ]
  },
  {
   "cell_type": "code",
   "execution_count": 18,
   "metadata": {},
   "outputs": [
    {
     "data": {
      "text/plain": [
       "['Model X', ['red', 'white', 'black'], 120, 3, 1.5]"
      ]
     },
     "execution_count": 18,
     "metadata": {},
     "output_type": "execute_result"
    }
   ],
   "source": [
    "modelX_attr"
   ]
  },
  {
   "cell_type": "markdown",
   "metadata": {},
   "source": [
    "#### Object Oriented\n",
    "A class does not actually contain any data. A method called `__init__()` specifies that different parameters are necessary to define a certain car, but it does not contain the actual values for these parameters for any specific car. Every time a new car object is created, `__init()__` sets the initial state of the object by assigning the values of the object’s properties. That is, `__init()__` initializes each new instance of the class.\n",
    "\n",
    "You can create as many attributes in the `__init()__` method as you like, but the first parameter will always be a variable called self. When a new class instance is created, the instance is automatically passed to the self parameter in `__init()__` so that new attributes can be defined for the object. Note in the code below, the `__init()__` function is indented by four spaces and the body of the method by eight spaces. This exact indentation is important to Python, as it indicates that the `__init()__` method belongs to the Car class.\n",
    "\n",
    "In the body of `__init()__`, there are four statements - one for each attribute - using the self variable:\n",
    "\n",
    "1. __self.colors = colors__ creates an attribute called colors and assigns to it the value of the colors parameter.\n",
    "2. __self.hp = hp__ creates an attribute called hp and assigns to it the value of the hp parameter.\n",
    "3. __self.length = length__ creates an attribute called length and assigns to it the value of the length parameter.\n",
    "4. __self.width = width__ creates an attribute called width and assigns to it the value of the width parameter.\n",
    "\n",
    "As mentioned above, all attributes created in the `__init()__` method are specific to the instances and hence referred to as instance attributes. In other words, all car objects have a length, width, etc. but the values for these parameters vary depending on the Car instance. \n",
    "\n",
    "In order to create attributes that all objects inherit, so called class attributes, a value can be assigned to a variable name outside the `__init()__` function. Exemplary, all Cars of our class are models by Tesla."
   ]
  },
  {
   "cell_type": "code",
   "execution_count": 33,
   "metadata": {},
   "outputs": [],
   "source": [
    "class Car:\n",
    "    \n",
    "    #class atrributes\n",
    "    brand = \"Tesla\"\n",
    "    \n",
    "    #instance attributes\n",
    "    def __init__(self, name, colors, hp, length, width):\n",
    "        self.name = name\n",
    "        self.colors = colors\n",
    "        self.hp = hp\n",
    "        self.length = length\n",
    "        self.width = width"
   ]
  },
  {
   "cell_type": "code",
   "execution_count": 34,
   "metadata": {},
   "outputs": [
    {
     "name": "stdout",
     "output_type": "stream",
     "text": [
      "Model X is a car by Tesla.\n",
      "Model X has a length of 3m and a width of 1.5m.\n"
     ]
    }
   ],
   "source": [
    "#instantiate the Car class with the Model X object\n",
    "Model_X = Car(\"Model X\", ['red', 'white', 'black'],120,3,1.5)\n",
    "\n",
    "# access the class attributes\n",
    "print(\"Model X is a car by {}.\".format(Model_X.brand))\n",
    "\n",
    "# access the instance attributes\n",
    "print(\"Model X has a length of {}m and a width of {}m.\".format( Model_X.length, Model_X.width))"
   ]
  },
  {
   "cell_type": "markdown",
   "metadata": {},
   "source": [
    "WRITE STH ABOUT WHAT WE HAVE SO FAR.\n",
    "\n",
    "<img src=\"imgs/06_blueprint_attributes.png\" width=\"400\">"
   ]
  },
  {
   "cell_type": "markdown",
   "metadata": {},
   "source": [
    "### 3. Defining the Functionality\n",
    "\n",
    "In order to finalize the car, specific methods that define the car's functionality have to be implemented - exemplary, in our case the driving function."
   ]
  },
  {
   "cell_type": "markdown",
   "metadata": {},
   "source": [
    "#### Procedural\n",
    "In the procedural way, the car's driving function is executed through a simple print statement. "
   ]
  },
  {
   "cell_type": "code",
   "execution_count": 11,
   "metadata": {},
   "outputs": [
    {
     "name": "stdout",
     "output_type": "stream",
     "text": [
      "Model X is driving\n"
     ]
    }
   ],
   "source": [
    "# Creating the Construction Plan\n",
    "car = 'Model X'\n",
    "\n",
    "# Defining the Attributes\n",
    "car_colors = ['red', 'white', 'black']\n",
    "car_hp = 120\n",
    "car_length_m = 3\n",
    "car_width_m = 1.5\n",
    "\n",
    "# Defining the Functionality\n",
    "print(car, 'is driving')"
   ]
  },
  {
   "cell_type": "markdown",
   "metadata": {},
   "source": [
    "#### Functional\n",
    "For the functional paradigm, the function `drive` is implemented in the same way that the car's attributes are defined. Within the `drive` function, a simple print statement is used."
   ]
  },
  {
   "cell_type": "code",
   "execution_count": 7,
   "metadata": {},
   "outputs": [],
   "source": [
    "# Creating the Construction Plan\n",
    "car = 'Model X'\n",
    "\n",
    "# Defining the Attributes\n",
    "def car_attr(name, colors, hp, length, width):\n",
    "\n",
    "    car_attr = [name, colors, hp, length, width]\n",
    "\n",
    "    print(\"The {} has the following specifications:\".format(name))\n",
    "    print(\"Available colours: {}\".format(colors))\n",
    "    print(\"HP: {}\".format(hp))\n",
    "    print(\"Length: {}\".format(length))\n",
    "    print(\"Width: {}\".format(width))\n",
    "\n",
    "    return car_attr\n",
    "\n",
    "# Defining the Functionality\n",
    "def drive(car):\n",
    "    print(car, 'is driving.')"
   ]
  },
  {
   "cell_type": "code",
   "execution_count": 10,
   "metadata": {},
   "outputs": [
    {
     "name": "stdout",
     "output_type": "stream",
     "text": [
      "Model X is driving.\n"
     ]
    }
   ],
   "source": [
    "drive(car)"
   ]
  },
  {
   "cell_type": "markdown",
   "metadata": {},
   "source": [
    "#### Object Oriented\n",
    "Instance methods describe the functions of the objects of a class. They represent the operations (actions) that can be performed on these objects, and only these object. In other words, the defined functions cannot be called from  instances other than the ones of that specific class. The execution of a method can lead to a change of the state of the object. \n",
    "\n",
    "Methods are defined in the same way as normal functions but must be declared within the body of the class. Their first argument always refers to the calling instance, thus methods are said to be functions, attached to objects. Similar to the `__innit__` method, the first parameter of the method is by convention always the name self.\n",
    "`.drive()` has one additional parameter called mph and returns a string containing the car’s state (driving) and the velocity in mph. Of course, you could also implement a method that only uses the self parameter. Naturally, other methods regarding the car example could be: braking, parking, etc. \n",
    "\n"
   ]
  },
  {
   "cell_type": "code",
   "execution_count": 27,
   "metadata": {},
   "outputs": [],
   "source": [
    "class Car:\n",
    "    \n",
    "    #class atrributes\n",
    "    brand = \"Tesla\"\n",
    "    \n",
    "    #instance attributes\n",
    "    def __init__(self, name, colors, hp, length, width):\n",
    "        self.name = name\n",
    "        self.colors = colors\n",
    "        self.hp = hp\n",
    "        self.length = length\n",
    "        self.width = width\n",
    "        self.state = \"off\"  # find a better initial state\n",
    "        self.lights = False\n",
    "\n",
    "    # Defining the Functionalities\n",
    "    def drive(self, mph):\n",
    "        self.state = \"driving\"\n",
    "        print(\"{} is {} with {} mph.\".format(self.name, self.state, mph))        "
   ]
  },
  {
   "cell_type": "code",
   "execution_count": 28,
   "metadata": {},
   "outputs": [],
   "source": [
    "Model_X = Car(\"Model X\", ['red', 'white', 'black'],120,3,1.5)"
   ]
  },
  {
   "cell_type": "code",
   "execution_count": 29,
   "metadata": {},
   "outputs": [
    {
     "name": "stdout",
     "output_type": "stream",
     "text": [
      "Model X is driving with 100 mph.\n"
     ]
    }
   ],
   "source": [
    "Model_X.drive(100)"
   ]
  },
  {
   "cell_type": "markdown",
   "metadata": {},
   "source": [
    "We have now specified the car, defined some attributes and finally added a functionality in all three programming paradigms. `Model_X` is now completed. \n",
    "Especially reagrding the object oriented programming, you have learnt how to:\n",
    "- Define a class\n",
    "- Instantiate an object\n",
    "- Define attributes \n",
    "- Define methods\n",
    "\n",
    "In the following, a second car will be built in order to illustrate the benefits of the individual paradigms in different situations.\n",
    "\n",
    "<img src=\"imgs/06_blueprint_functionality.png\" width=\"400\">"
   ]
  },
  {
   "cell_type": "markdown",
   "metadata": {},
   "source": [
    "### Building the Car\n",
    "- Procedural: Car is built and driving instantly\n",
    "- Functional: Car is built instantly but not driving\n",
    "- OOP: Car has to be built explicitly "
   ]
  },
  {
   "cell_type": "markdown",
   "metadata": {},
   "source": [
    "### Building a Different Car\n",
    "- Inheritance\n",
    "- Showing the advantage of OOP (reuising code parts)"
   ]
  },
  {
   "cell_type": "markdown",
   "metadata": {},
   "source": [
    "### Sources\n",
    "\n",
    "**Overview of Programming Paradigms**  \n",
    "\n",
    "https://blog.newrelic.com/engineering/python-programming-styles/  \n",
    "https://hackr.io/blog/procedural-programming   \n"
   ]
  },
  {
   "cell_type": "code",
   "execution_count": null,
   "metadata": {},
   "outputs": [],
   "source": []
  }
 ],
 "metadata": {
  "kernelspec": {
   "display_name": "Python 3",
   "language": "python",
   "name": "python3"
  },
  "language_info": {
   "codemirror_mode": {
    "name": "ipython",
    "version": 3
   },
   "file_extension": ".py",
   "mimetype": "text/x-python",
   "name": "python",
   "nbconvert_exporter": "python",
   "pygments_lexer": "ipython3",
   "version": "3.8.5"
  }
 },
 "nbformat": 4,
 "nbformat_minor": 2
}
